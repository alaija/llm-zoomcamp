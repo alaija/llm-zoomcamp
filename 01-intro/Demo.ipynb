{
 "cells": [
  {
   "cell_type": "code",
   "execution_count": 2,
   "id": "02de3b35-d071-4f59-9023-9fed0045f9df",
   "metadata": {
    "vscode": {
     "languageId": "python"
    }
   },
   "outputs": [],
   "source": [
    "import openai\n",
    "from dotenv import load_dotenv\n",
    "from openai import OpenAI"
   ]
  },
  {
   "cell_type": "code",
   "execution_count": 3,
   "id": "610f1a73",
   "metadata": {
    "vscode": {
     "languageId": "python"
    }
   },
   "outputs": [
    {
     "data": {
      "text/plain": [
       "True"
      ]
     },
     "execution_count": 3,
     "metadata": {},
     "output_type": "execute_result"
    }
   ],
   "source": [
    "load_dotenv()"
   ]
  },
  {
   "cell_type": "code",
   "execution_count": 6,
   "id": "21af5af0-df64-494c-a9ea-aca4e0114945",
   "metadata": {
    "vscode": {
     "languageId": "python"
    }
   },
   "outputs": [],
   "source": [
    "client = OpenAI()\n",
    "response = client.chat.completions.create(\n",
    "    model='gpt-4o',\n",
    "    messages=[{\"role\": \"user\", \"content\": \"is it too late to join the course?\"}]\n",
    ")"
   ]
  },
  {
   "cell_type": "code",
   "execution_count": 7,
   "id": "f870242a-d894-49c4-8d86-56ca6ec02a62",
   "metadata": {},
   "outputs": [
    {
     "data": {
      "text/plain": [
       "\"Determining whether it's too late to join a course depends on several factors:\\n\\n1. **Course Registration Deadlines:** Check the official deadlines for course enrollment. Universities, colleges, and other educational institutions typically set specific dates by which students must register.\\n\\n2. **Course Availability:** Even if the formal deadline has passed, some courses might still allow late registration if there are available slots, or if the instructor permits it.\\n\\n3. **Institution Policies:** Some institutions have policies for late registration, which might include additional fees or specific requirements.\\n\\n4. **Progress in Class:** Consider how much of the course has already been completed. If a significant portion of the course has already passed, catching up might be challenging.\\n\\n5. **Course Type:** Online courses or self-paced learning modules often have more flexible enrollment periods compared to traditional in-person classes.\\n\\nTo find out for sure, it’s best to contact the educational institution or the course instructor directly. They can provide the most accurate information and may offer options for late enrollment or future course offerings.\""
      ]
     },
     "execution_count": 7,
     "metadata": {},
     "output_type": "execute_result"
    }
   ],
   "source": [
    "response.choices[0].message.content"
   ]
  },
  {
   "cell_type": "code",
   "execution_count": null,
   "id": "fd791c37-1324-4cb6-8404-95141a535f0d",
   "metadata": {},
   "outputs": [],
   "source": []
  }
 ],
 "metadata": {
  "kernelspec": {
   "display_name": "Python 3 (ipykernel)",
   "language": "python",
   "name": "python3"
  },
  "language_info": {
   "codemirror_mode": {
    "name": "ipython",
    "version": 3
   },
   "file_extension": ".py",
   "mimetype": "text/x-python",
   "name": "python",
   "nbconvert_exporter": "python",
   "pygments_lexer": "ipython3",
   "version": "3.11.7"
  }
 },
 "nbformat": 4,
 "nbformat_minor": 5
}
